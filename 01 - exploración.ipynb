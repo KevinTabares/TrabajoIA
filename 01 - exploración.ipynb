{
 "cells": [
  {
   "cell_type": "code",
   "execution_count": 9,
   "metadata": {},
   "outputs": [
    {
     "name": "stdout",
     "output_type": "stream",
     "text": [
      "Downloading udea-ai4eng-20242.zip to c:\\Users\\kevin\\OneDrive - Universidad de Antioquia\\2024-2\\Introducción a la inteligencia artificial\\TrabajoIA\n",
      "\n"
     ]
    },
    {
     "name": "stderr",
     "output_type": "stream",
     "text": [
      "\n",
      "  0%|          | 0.00/20.1M [00:00<?, ?B/s]\n",
      "  5%|▍         | 1.00M/20.1M [00:00<00:05, 3.74MB/s]\n",
      " 25%|██▍       | 5.00M/20.1M [00:00<00:01, 15.8MB/s]\n",
      " 45%|████▍     | 9.00M/20.1M [00:00<00:00, 23.8MB/s]\n",
      " 65%|██████▍   | 13.0M/20.1M [00:00<00:00, 29.2MB/s]\n",
      " 84%|████████▍ | 17.0M/20.1M [00:00<00:00, 32.9MB/s]\n",
      "100%|██████████| 20.1M/20.1M [00:00<00:00, 27.0MB/s]\n"
     ]
    }
   ],
   "source": [
    "import os\n",
    "os.environ['KAGGLE_CONFIG_DIR'] = '.'\n",
    "!kaggle competitions download -c udea-ai4eng-20242"
   ]
  },
  {
   "cell_type": "code",
   "execution_count": null,
   "metadata": {},
   "outputs": [],
   "source": []
  }
 ],
 "metadata": {
  "kernelspec": {
   "display_name": "Python 3",
   "language": "python",
   "name": "python3"
  },
  "language_info": {
   "codemirror_mode": {
    "name": "ipython",
    "version": 3
   },
   "file_extension": ".py",
   "mimetype": "text/x-python",
   "name": "python",
   "nbconvert_exporter": "python",
   "pygments_lexer": "ipython3",
   "version": "3.11.9"
  }
 },
 "nbformat": 4,
 "nbformat_minor": 2
}
